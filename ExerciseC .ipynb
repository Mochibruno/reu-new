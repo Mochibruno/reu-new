{
 "cells": [
  {
   "cell_type": "code",
   "execution_count": 16,
   "id": "227a4fb6",
   "metadata": {},
   "outputs": [
    {
     "name": "stdout",
     "output_type": "stream",
     "text": [
      "[1, 2, 3, 4, 5, 6, 9]\n",
      "correct!\n"
     ]
    }
   ],
   "source": [
    "def list_uniq(l_in):\n",
    "    \"\"\"\n",
    "    given a list return a list of the unique values.\n",
    "    do this (perhaps) using sorting (why?)\n",
    "    \"\"\"\n",
    "    \n",
    "    ## hint, \"sort\" is a method of an array that sorts in place! \n",
    "    ##    make sure you understand --> in place <--\n",
    "    # then go thorough starting from an empty list (  [] ) using\n",
    "    # append to add an element the __first__ (and only the first) time\n",
    "    # you encounter it (enumerate the sorted list)\n",
    "    \n",
    "    # Q: why did we sort the list? is it necessary? \n",
    "    \n",
    "    # https://docs.python.org/3/library/functions.html#sorted  (builtin)\n",
    "    # https://docs.python.org/3/howto/sorting.html (list method)\n",
    "    \n",
    "    l=[]\n",
    "    l_in.sort()\n",
    "    \n",
    "    for i in l_in:\n",
    "        if i in l:\n",
    "            l.remove(i)\n",
    "        if i in l_in:\n",
    "            l.append(i)\n",
    "\n",
    "    print(l)    \n",
    "\n",
    "    \n",
    " \n",
    "    return l\n",
    "\n",
    "def test_list_uniq():\n",
    "    l_in = [3,2,6,4,1,5,4,4,1,3,5,6,9]\n",
    "    ans = [1, 2, 3, 4, 5, 6, 9]\n",
    "    if ans == list_uniq(l_in):\n",
    "        print(\"correct!\")\n",
    "    else:\n",
    "        print(\"broken!\")\n",
    "        \n",
    "\n",
    "test_list_uniq()"
   ]
  },
  {
   "cell_type": "code",
   "execution_count": 31,
   "id": "9a326952",
   "metadata": {},
   "outputs": [
    {
     "name": "stdout",
     "output_type": "stream",
     "text": [
      "29\n",
      "correct!\n"
     ]
    }
   ],
   "source": [
    "# fix my broken code\n",
    "\n",
    "# a note about Python text. \"\" and '' are identical in function. Unlike some languages,\n",
    "# Python does not have a character datatype. For people used to, be careful because 'a' is\n",
    "# character sequence that happens to be one character long\n",
    "\n",
    "# The triple quote \"\"\" \"\"\" is used in docstrings; if a triple quoted string is the first statement\n",
    "# of a function, it is collected up for the automated documentation of that function\n",
    "\n",
    "\n",
    "def count_the_vowels(s):\n",
    "    \"\"\"\n",
    "    Given a string s, return the count of vowels in s\n",
    "    \"\"\"\n",
    "    count = 0\n",
    "    v = [\"a\",\"e\",\"i\",\"o\",\"u\"]\n",
    "    for i in s:\n",
    "        if i in v:\n",
    "            count += 1\n",
    "        else:\n",
    "            count += 0\n",
    "    \n",
    "    print(count)\n",
    "    return count\n",
    "            \n",
    "        \n",
    "    # hint: iterate through s\n",
    "    # count +1 using a statement like 'if x in a', where a teaches the program\n",
    "    # what a vowel is\n",
    "    \n",
    "\n",
    "text = \"The world will little note, nor long remember what we say here, but it can never forget what they did here.\"\n",
    "\n",
    "def test_count_the_vowels():\n",
    "    if count_the_vowels(text)==29:\n",
    "        print(\"correct!\")\n",
    "    else:\n",
    "        print(\"broken!\")\n",
    "\n",
    "test_count_the_vowels()"
   ]
  },
  {
   "cell_type": "code",
   "execution_count": null,
   "id": "f3b0210f",
   "metadata": {},
   "outputs": [],
   "source": []
  }
 ],
 "metadata": {
  "kernelspec": {
   "display_name": "Python 3 (ipykernel)",
   "language": "python",
   "name": "python3"
  },
  "language_info": {
   "codemirror_mode": {
    "name": "ipython",
    "version": 3
   },
   "file_extension": ".py",
   "mimetype": "text/x-python",
   "name": "python",
   "nbconvert_exporter": "python",
   "pygments_lexer": "ipython3",
   "version": "3.9.12"
  }
 },
 "nbformat": 4,
 "nbformat_minor": 5
}
