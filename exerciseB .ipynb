{
 "cells": [
  {
   "cell_type": "code",
   "execution_count": 3,
   "id": "f3507334",
   "metadata": {},
   "outputs": [],
   "source": [
    "a = [0,1,2,3,4]"
   ]
  },
  {
   "cell_type": "code",
   "execution_count": null,
   "id": "b464ffc8",
   "metadata": {},
   "outputs": [],
   "source": []
  },
  {
   "cell_type": "code",
   "execution_count": 4,
   "id": "0b987696",
   "metadata": {},
   "outputs": [
    {
     "name": "stdout",
     "output_type": "stream",
     "text": [
      "[0, 1, 2, 3, 4]\n"
     ]
    }
   ],
   "source": [
    "print(a)"
   ]
  },
  {
   "cell_type": "code",
   "execution_count": 18,
   "id": "1e060f2a",
   "metadata": {},
   "outputs": [
    {
     "name": "stdout",
     "output_type": "stream",
     "text": [
      "printing object of type <class 'list'>\n",
      "10\n",
      "9\n",
      "8\n",
      "7\n",
      "6\n",
      "5\n",
      "4\n",
      "3\n",
      "2\n",
      "1\n",
      "BOOM!\n"
     ]
    }
   ],
   "source": [
    "def print_them_all(the_list):\n",
    "    \"\"\"\n",
    "    assumes the_list is a list\n",
    "    topics -\n",
    "        iterables\n",
    "        list data type\n",
    "        a string is an iterable (see next box)\n",
    "    \"\"\"\n",
    "    print(f'printing object of type {type(the_list)}')\n",
    "    for element in the_list:\n",
    "        print(element)\n",
    "        \n",
    "def the_new_boom(n):\n",
    "    \n",
    "    def make_a_list(n):\n",
    "        number = [n for n in range(n, 0, -1)]\n",
    "        return number\n",
    "    \n",
    "    the_list = make_a_list(n)\n",
    "    print_them_all(the_list)\n",
    "    print(\"BOOM!\")\n",
    "    \n",
    "the_new_boom(10)"
   ]
  },
  {
   "cell_type": "code",
   "execution_count": null,
   "id": "39004b95",
   "metadata": {},
   "outputs": [],
   "source": []
  }
 ],
 "metadata": {
  "kernelspec": {
   "display_name": "Python 3 (ipykernel)",
   "language": "python",
   "name": "python3"
  },
  "language_info": {
   "codemirror_mode": {
    "name": "ipython",
    "version": 3
   },
   "file_extension": ".py",
   "mimetype": "text/x-python",
   "name": "python",
   "nbconvert_exporter": "python",
   "pygments_lexer": "ipython3",
   "version": "3.9.12"
  }
 },
 "nbformat": 4,
 "nbformat_minor": 5
}
