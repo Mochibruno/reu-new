{
 "cells": [
  {
   "cell_type": "code",
   "execution_count": 1,
   "id": "aa037294",
   "metadata": {},
   "outputs": [
    {
     "name": "stdout",
     "output_type": "stream",
     "text": [
      "the result should be |h1: 0.7407, h2: 0.2593|\n"
     ]
    },
    {
     "ename": "NameError",
     "evalue": "name 'dist_1994' is not defined",
     "output_type": "error",
     "traceback": [
      "\u001b[1;31m---------------------------------------------------------------------------\u001b[0m",
      "\u001b[1;31mNameError\u001b[0m                                 Traceback (most recent call last)",
      "Input \u001b[1;32mIn [1]\u001b[0m, in \u001b[0;36m<cell line: 54>\u001b[1;34m()\u001b[0m\n\u001b[0;32m     51\u001b[0m \u001b[38;5;66;03m# test 1\u001b[39;00m\n\u001b[0;32m     53\u001b[0m \u001b[38;5;28mprint\u001b[39m(\u001b[38;5;124mf\u001b[39m\u001b[38;5;124m'\u001b[39m\u001b[38;5;124mthe result should be |h1: 0.7407, h2: 0.2593|\u001b[39m\u001b[38;5;124m'\u001b[39m)\n\u001b[1;32m---> 54\u001b[0m mandm \u001b[38;5;241m=\u001b[39m MandM(\u001b[43mdist_1994\u001b[49m,dist_1996)\n\u001b[0;32m     55\u001b[0m mandm\u001b[38;5;241m.\u001b[39mexperiment(\u001b[38;5;124m'\u001b[39m\u001b[38;5;124myellow\u001b[39m\u001b[38;5;124m'\u001b[39m,\u001b[38;5;124m'\u001b[39m\u001b[38;5;124mgreen\u001b[39m\u001b[38;5;124m'\u001b[39m)\n\u001b[0;32m     56\u001b[0m \u001b[38;5;28mprint\u001b[39m(mandm)\n",
      "\u001b[1;31mNameError\u001b[0m: name 'dist_1994' is not defined"
     ]
    }
   ],
   "source": [
    "class MandM:\n",
    "    \n",
    "    def __init__(self,dist_1994,dist_1996):\n",
    "        self.d94 = dist_1994\n",
    "        self.d96 = dist_1996\n",
    "        self.prior = {'h1':0.5,'h2':0.5}\n",
    "        \n",
    "    def set_apriori(self):\n",
    "        self.prior = {'h1':0.5,'h2':0.5}\n",
    "        \n",
    "    def likelihood(self, color_bag1, color_bag2):\n",
    "        # returns the pair (P(D|H_1), P(D|H_2))\n",
    "        \n",
    "        likelihood_h1 = self.d94[color_bag1]*self.d96[color_bag2]\n",
    "        likelihood_h2 = self.d96[color_bag1]*self.d94[color_bag2]\n",
    "        return (likelihood_h1,likelihood_h2)\n",
    "    \n",
    "    def total_prob(self,likelihood):\n",
    "        # given the pair (P(D|H_1), P(D|H_2)), \n",
    "        # return P(D) under the current prior distribution (self.prior)\n",
    "        \n",
    "        p_d = likelihood[0]*self.prior['h1'] + likelihood[1]*self.prior['h2']\n",
    "        return p_d\n",
    "    \n",
    "    def posterior(self,likelihood):\n",
    "        # given the lieklihoods (P(D|H_1), P(D|H_2)),\n",
    "        # returns the posterior probability distribution (P(H_1),P(H_2)) (post hoc)\n",
    "        # under the current prior distribution (self.prior)\n",
    "        \n",
    "        p_d = self.total_prob(likelihood)\n",
    "        post_h1 = likelihood[0]*self.prior['h1']/p_d\n",
    "        post_h2 = likelihood[1]*self.prior['h2']/p_d\n",
    "        return (post_h1,post_h2)\n",
    "    \n",
    "    def experiment(self,color_bag1, color_bag2):\n",
    "        likelihood = self.likelihood(color_bag1, color_bag2)\n",
    "        posterior = self.posterior(likelihood)\n",
    "        self.prior = {'h1':posterior[0], 'h2':posterior[1]}\n",
    "        return self.decision()\n",
    "    \n",
    "    def decision(self):\n",
    "        if self.prior['h1']>=self.prior['h2']:\n",
    "            return 'h1'\n",
    "        return 'h2'\n",
    "    \n",
    "    def __repr__(self):\n",
    "        return f'h1: {self.prior[\"h1\"]:.4f}, h2: {self.prior[\"h2\"]:.4f}'\n",
    "    dist_1994 = {'brown':.3, 'yellow':.2, 'red':.2, 'green':.1, 'orange':.1, 'tan':.1, 'blue':0}\n",
    "dist_1996 = {'brown':.13, 'yellow':.14, 'red':.13, 'green':.2, 'orange':.16, 'tan':0, 'blue':.24}\n",
    "\n",
    "# test 1\n",
    "\n",
    "print(f'the result should be |h1: 0.7407, h2: 0.2593|')\n",
    "mandm = MandM(dist_1994,dist_1996)\n",
    "mandm.experiment('yellow','green')\n",
    "print(mandm)\n",
    "\n",
    "# test 2\n",
    "\n",
    "print(f'the result should be |h1: 0.0000, h2: 1.0000|')\n",
    "mandm.set_apriori()\n",
    "mandm.experiment('blue','yellow')\n",
    "print(mandm)"
   ]
  },
  {
   "cell_type": "code",
   "execution_count": null,
   "id": "e0ee3879",
   "metadata": {},
   "outputs": [],
   "source": []
  }
 ],
 "metadata": {
  "kernelspec": {
   "display_name": "Python 3 (ipykernel)",
   "language": "python",
   "name": "python3"
  },
  "language_info": {
   "codemirror_mode": {
    "name": "ipython",
    "version": 3
   },
   "file_extension": ".py",
   "mimetype": "text/x-python",
   "name": "python",
   "nbconvert_exporter": "python",
   "pygments_lexer": "ipython3",
   "version": "3.9.12"
  }
 },
 "nbformat": 4,
 "nbformat_minor": 5
}
